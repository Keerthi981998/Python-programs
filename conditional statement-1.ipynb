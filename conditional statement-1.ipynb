{
 "cells": [
  {
   "cell_type": "markdown",
   "id": "13026686",
   "metadata": {},
   "source": [
    "## 1. Write a program to check whether a given number is even or odd."
   ]
  },
  {
   "cell_type": "code",
   "execution_count": 7,
   "id": "35177d2b",
   "metadata": {},
   "outputs": [
    {
     "name": "stdout",
     "output_type": "stream",
     "text": [
      "Enter the number :10\n",
      "The number is even\n"
     ]
    }
   ],
   "source": [
    "a=int(input(\"Enter the number :\"))\n",
    "if(a%2==0):\n",
    "    print(\"The number is even\")\n",
    "else:\n",
    "    print(\"The number is odd\")"
   ]
  },
  {
   "cell_type": "markdown",
   "id": "0b3763ee",
   "metadata": {},
   "source": [
    "## 2. Write a program to check whether an alphabet is a vowel or consonant."
   ]
  },
  {
   "cell_type": "code",
   "execution_count": 14,
   "id": "bb741d4f",
   "metadata": {},
   "outputs": [
    {
     "name": "stdout",
     "output_type": "stream",
     "text": [
      "Enter an alphabet b\n",
      "consonant\n"
     ]
    }
   ],
   "source": [
    "alphabet=(input(\"Enter an alphabet \"))\n",
    "if(alphabet==('a'or'e'or'i'or'o'or'u')):\n",
    "    print(\"vowel\")\n",
    "else:\n",
    "    print(\"consonant\") "
   ]
  },
  {
   "cell_type": "markdown",
   "id": "aece5366",
   "metadata": {},
   "source": [
    "## 3. Write a program to check whether a person is eligible to vote or not."
   ]
  },
  {
   "cell_type": "code",
   "execution_count": 65,
   "id": "5d8ed2f3",
   "metadata": {},
   "outputs": [
    {
     "name": "stdout",
     "output_type": "stream",
     "text": [
      "Enter the person :28\n",
      "Eligible\n"
     ]
    }
   ],
   "source": [
    "person=int(input(\"Enter the person :\"))\n",
    "if(person>=18):\n",
    "    print(\"Eligible\")\n",
    "else:\n",
    "    print(\"Not Eligible\")"
   ]
  },
  {
   "cell_type": "markdown",
   "id": "4afdcbd4",
   "metadata": {},
   "source": [
    "## 4. Write a program to check whether a given number is positive , negative or zero."
   ]
  },
  {
   "cell_type": "code",
   "execution_count": 29,
   "id": "d42ff76d",
   "metadata": {},
   "outputs": [
    {
     "name": "stdout",
     "output_type": "stream",
     "text": [
      "Enter the number :-9\n",
      "negative\n"
     ]
    }
   ],
   "source": [
    "num=int(input('Enter the number :'))\n",
    "if(num>=1):\n",
    "    print(\"positive\")\n",
    "elif(num<=-1):\n",
    "    print(\"negative\")\n",
    "else:\n",
    "    print(\"zero\")"
   ]
  },
  {
   "cell_type": "markdown",
   "id": "4e1fcd99",
   "metadata": {},
   "source": [
    "## 5. Write a program to check whether a given year is leap year or not."
   ]
  },
  {
   "cell_type": "code",
   "execution_count": 1,
   "id": "cb178b03",
   "metadata": {},
   "outputs": [
    {
     "name": "stdout",
     "output_type": "stream",
     "text": [
      "Enter the number :2023\n",
      "Not a leap year\n"
     ]
    }
   ],
   "source": [
    "year=int(input(\"Enter the number :\"))\n",
    "if year%4==0:\n",
    "    print(\"leap year\")\n",
    "else:\n",
    "    print(\"Not a leap year\")"
   ]
  },
  {
   "cell_type": "markdown",
   "id": "5680f962",
   "metadata": {},
   "source": [
    "## 6. Write a program to check a triangle is equilateral ,isosceles or scalene."
   ]
  },
  {
   "cell_type": "code",
   "execution_count": 32,
   "id": "d7de6ce1",
   "metadata": {},
   "outputs": [
    {
     "name": "stdout",
     "output_type": "stream",
     "text": [
      "Enter length of 1st side :5\n",
      "Enter length of 2nd side :5\n",
      "Enter length of 3rd side :2\n",
      "Triangle is isosceles\n"
     ]
    }
   ],
   "source": [
    "t1=int(input(\"Enter length of 1st side :\"))\n",
    "t2=int(input(\"Enter length of 2nd side :\"))\n",
    "t3=int(input(\"Enter length of 3rd side :\"))\n",
    "if(t1==t2==t3):\n",
    "    print(\"Triangle is equilateral\")\n",
    "elif(t1!=t2!=t3):\n",
    "    print(\"Triangle is scalene\")\n",
    "else:\n",
    "    print(\"Triangle is isosceles\")"
   ]
  },
  {
   "cell_type": "markdown",
   "id": "8c2da270",
   "metadata": {},
   "source": [
    "## 7. Write a program to check whether after selling a product its profit or loss."
   ]
  },
  {
   "cell_type": "code",
   "execution_count": 2,
   "id": "46502851",
   "metadata": {},
   "outputs": [
    {
     "name": "stdout",
     "output_type": "stream",
     "text": [
      "selling price :150\n",
      "cost price :160\n",
      "Loss\n"
     ]
    }
   ],
   "source": [
    "a=int(input(\"selling price :\"))\n",
    "b=int(input(\"cost price :\"))\n",
    "if a>b:\n",
    "    print(\"Profit\")\n",
    "else:\n",
    "    print(\"Loss\")"
   ]
  }
 ],
 "metadata": {
  "kernelspec": {
   "display_name": "Python 3 (ipykernel)",
   "language": "python",
   "name": "python3"
  },
  "language_info": {
   "codemirror_mode": {
    "name": "ipython",
    "version": 3
   },
   "file_extension": ".py",
   "mimetype": "text/x-python",
   "name": "python",
   "nbconvert_exporter": "python",
   "pygments_lexer": "ipython3",
   "version": "3.9.13"
  }
 },
 "nbformat": 4,
 "nbformat_minor": 5
}
