{
 "cells": [
  {
   "cell_type": "markdown",
   "id": "01bcb5ac",
   "metadata": {},
   "source": [
    "## 1)Write a program to swap two numbers."
   ]
  },
  {
   "cell_type": "code",
   "execution_count": 2,
   "id": "cd702251",
   "metadata": {},
   "outputs": [
    {
     "name": "stdout",
     "output_type": "stream",
     "text": [
      "Swap of two numbers\n",
      "The value of x is : 289\n",
      "The value of y is : 98\n"
     ]
    }
   ],
   "source": [
    "x=98\n",
    "y=289\n",
    "temp=x\n",
    "x=y\n",
    "y=temp\n",
    "print(\"Swap of two numbers\")\n",
    "print(\"The value of x is :\",x)\n",
    "print(\"The value of y is :\",y)"
   ]
  },
  {
   "cell_type": "markdown",
   "id": "90e5a3d5",
   "metadata": {},
   "source": [
    "## 2)Write a program to swap two numbers without using third variable."
   ]
  },
  {
   "cell_type": "code",
   "execution_count": 3,
   "id": "8729c959",
   "metadata": {},
   "outputs": [
    {
     "name": "stdout",
     "output_type": "stream",
     "text": [
      "After swapping\n",
      "The value of x is : 420\n",
      "The value of y is : 769\n"
     ]
    }
   ],
   "source": [
    "x=769\n",
    "y=420\n",
    "x,y=y,x\n",
    "print(\"After swapping\")\n",
    "print(\"The value of x is :\",x)\n",
    "print(\"The value of y is :\",y)"
   ]
  },
  {
   "cell_type": "markdown",
   "id": "ac435bcf",
   "metadata": {},
   "source": [
    "## 3)Write a program to compute simple interest."
   ]
  },
  {
   "cell_type": "code",
   "execution_count": 4,
   "id": "de429a91",
   "metadata": {},
   "outputs": [
    {
     "name": "stdout",
     "output_type": "stream",
     "text": [
      "Enter the value : 18\n",
      "Enter the value : 28\n",
      "Enter the value : 20\n",
      "The value is : 100.8\n"
     ]
    }
   ],
   "source": [
    "s1=int(input(\"Enter the value : \"))\n",
    "s2=int(input(\"Enter the value : \"))\n",
    "s3=int(input(\"Enter the value : \"))\n",
    "SI=s1*s2*s3/100\n",
    "print(\"The value is :\",SI)"
   ]
  },
  {
   "cell_type": "markdown",
   "id": "b58e28b8",
   "metadata": {},
   "source": [
    "## 4)Write a program to find average of five numbers by user input."
   ]
  },
  {
   "cell_type": "code",
   "execution_count": 1,
   "id": "b40dbe58",
   "metadata": {},
   "outputs": [
    {
     "name": "stdout",
     "output_type": "stream",
     "text": [
      "Enter the value : 28\n",
      "Enter the value : 15\n",
      "Enter the value : 65\n",
      "Enter the value : 78\n",
      "Enter the value : 55\n",
      "The average value is : 197.0\n"
     ]
    }
   ],
   "source": [
    "m1=int(input(\"Enter the value : \"))\n",
    "m2=int(input(\"Enter the value : \"))\n",
    "m3=int(input(\"Enter the value : \"))\n",
    "m4=int(input(\"Enter the value : \"))\n",
    "m5=int(input(\"Enter the value : \"))\n",
    "avg=m1+m2+m3+m4+m5/5\n",
    "print(\"The average value is :\",avg)"
   ]
  },
  {
   "cell_type": "markdown",
   "id": "34edb5b3",
   "metadata": {},
   "source": [
    "## 5)Write a program to calculate the discriminant of a quadratic equation."
   ]
  },
  {
   "cell_type": "code",
   "execution_count": 1,
   "id": "85592545",
   "metadata": {},
   "outputs": [
    {
     "name": "stdout",
     "output_type": "stream",
     "text": [
      "Enter the value : 10\n",
      "Enter the value : 5\n",
      "Enter the value : 20\n",
      "The value is -775\n"
     ]
    }
   ],
   "source": [
    "a=int(input(\"Enter the value : \"))\n",
    "b=int(input(\"Enter the value : \"))\n",
    "c=int(input(\"Enter the value : \"))\n",
    "n=(b**2)-(4*a*c)\n",
    "print(\"The value is\",n)"
   ]
  },
  {
   "cell_type": "code",
   "execution_count": null,
   "id": "3d38be95",
   "metadata": {},
   "outputs": [],
   "source": []
  }
 ],
 "metadata": {
  "kernelspec": {
   "display_name": "Python 3 (ipykernel)",
   "language": "python",
   "name": "python3"
  },
  "language_info": {
   "codemirror_mode": {
    "name": "ipython",
    "version": 3
   },
   "file_extension": ".py",
   "mimetype": "text/x-python",
   "name": "python",
   "nbconvert_exporter": "python",
   "pygments_lexer": "ipython3",
   "version": "3.9.13"
  }
 },
 "nbformat": 4,
 "nbformat_minor": 5
}
