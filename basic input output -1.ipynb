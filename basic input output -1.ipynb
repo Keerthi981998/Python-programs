{
 "cells": [
  {
   "cell_type": "markdown",
   "id": "9706927a",
   "metadata": {},
   "source": [
    "### 1)Write a program to print yourself introduction."
   ]
  },
  {
   "cell_type": "code",
   "execution_count": 6,
   "id": "ebb2c776",
   "metadata": {},
   "outputs": [
    {
     "name": "stdout",
     "output_type": "stream",
     "text": [
      "Hi myself Keerthipriya.Im from Tamilnadu.I did my graduation in B.E CSE Meenakshi College of Engineering,and i did my schooling at velammal mat.hr.sec.school.I have a work experience as a teller in RBL bank.My hobbies are enjoy dancing and playing tennis.My strength is very honest to my work,self motivated,hard working.My weakness is emotional person.My goal is to placed in a reputed company where i can utilize my skills and improve my career path.\n"
     ]
    }
   ],
   "source": [
    "print(\"Hi myself Keerthipriya.Im from Tamilnadu.I did my graduation in B.E CSE Meenakshi College of Engineering,and i did my schooling at velammal mat.hr.sec.school.\"\n",
    " \"I have a work experience as a teller in RBL bank.\"\n",
    " \"My hobbies are enjoy dancing and playing tennis.My strength is very honest to my work,self motivated,hard working.My weakness is emotional person.\"\n",
    " \"My goal is to placed in a reputed company where i can utilize my skills and improve my career path.\")"
   ]
  },
  {
   "cell_type": "markdown",
   "id": "acdbc4aa",
   "metadata": {},
   "source": [
    "### 2)Write a program to perform the following operations:\n",
    "    .Addition\n",
    "    .Subtraction\n",
    "    .Multiplication\n",
    "    .Division\n",
    "    .Modulus\n",
    "    .Exponent"
   ]
  },
  {
   "cell_type": "markdown",
   "id": "4fd4fe87",
   "metadata": {},
   "source": [
    "### Addition"
   ]
  },
  {
   "cell_type": "code",
   "execution_count": 50,
   "id": "78179612",
   "metadata": {
    "scrolled": true
   },
   "outputs": [
    {
     "name": "stdout",
     "output_type": "stream",
     "text": [
      "Addition is: 30\n"
     ]
    }
   ],
   "source": [
    "a=20\n",
    "b=10\n",
    "c=a+b\n",
    "print(\"Addition is:\",c)"
   ]
  },
  {
   "cell_type": "markdown",
   "id": "ead794d8",
   "metadata": {},
   "source": [
    "### Subtraction "
   ]
  },
  {
   "cell_type": "code",
   "execution_count": 51,
   "id": "6cb650d3",
   "metadata": {},
   "outputs": [
    {
     "name": "stdout",
     "output_type": "stream",
     "text": [
      "Subtraction is: 10\n"
     ]
    }
   ],
   "source": [
    "a=20\n",
    "b=10\n",
    "c=a-b\n",
    "print(\"Subtraction is:\",c)"
   ]
  },
  {
   "cell_type": "markdown",
   "id": "ff2b621b",
   "metadata": {},
   "source": [
    "### Multiplication"
   ]
  },
  {
   "cell_type": "code",
   "execution_count": 52,
   "id": "d05366e3",
   "metadata": {},
   "outputs": [
    {
     "name": "stdout",
     "output_type": "stream",
     "text": [
      "Multiplication is: 200\n"
     ]
    }
   ],
   "source": [
    "a=20\n",
    "b=10\n",
    "c=a*b\n",
    "print(\"Multiplication is:\",c)"
   ]
  },
  {
   "cell_type": "markdown",
   "id": "212bb406",
   "metadata": {},
   "source": [
    "### Division"
   ]
  },
  {
   "cell_type": "code",
   "execution_count": 53,
   "id": "289854db",
   "metadata": {},
   "outputs": [
    {
     "name": "stdout",
     "output_type": "stream",
     "text": [
      "Division is: 2.0\n"
     ]
    }
   ],
   "source": [
    "a=20\n",
    "b=10\n",
    "c=a/b\n",
    "print(\"Division is:\",c)"
   ]
  },
  {
   "cell_type": "markdown",
   "id": "5bf71ff9",
   "metadata": {},
   "source": [
    "### Modulus"
   ]
  },
  {
   "cell_type": "code",
   "execution_count": 54,
   "id": "d87e5bea",
   "metadata": {},
   "outputs": [
    {
     "name": "stdout",
     "output_type": "stream",
     "text": [
      "Modulus is: 0\n"
     ]
    }
   ],
   "source": [
    "a=20\n",
    "b=10\n",
    "c=a%b\n",
    "print(\"Modulus is:\",c)"
   ]
  },
  {
   "cell_type": "markdown",
   "id": "0c38697a",
   "metadata": {},
   "source": [
    "### Exponent"
   ]
  },
  {
   "cell_type": "code",
   "execution_count": 55,
   "id": "e4d1c16c",
   "metadata": {},
   "outputs": [
    {
     "name": "stdout",
     "output_type": "stream",
     "text": [
      "Exponent is: 10240000000000\n"
     ]
    }
   ],
   "source": [
    "a=20\n",
    "b=10\n",
    "c=a**b\n",
    "print(\"Exponent is:\",c)"
   ]
  }
 ],
 "metadata": {
  "kernelspec": {
   "display_name": "Python 3 (ipykernel)",
   "language": "python",
   "name": "python3"
  },
  "language_info": {
   "codemirror_mode": {
    "name": "ipython",
    "version": 3
   },
   "file_extension": ".py",
   "mimetype": "text/x-python",
   "name": "python",
   "nbconvert_exporter": "python",
   "pygments_lexer": "ipython3",
   "version": "3.9.13"
  }
 },
 "nbformat": 4,
 "nbformat_minor": 5
}
