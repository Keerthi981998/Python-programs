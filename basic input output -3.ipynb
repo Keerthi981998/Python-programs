{
 "cells": [
  {
   "cell_type": "markdown",
   "id": "0d8074e5",
   "metadata": {},
   "source": [
    "## 1)Write a program to calculate the areas of the following shapes:\n",
    "       * Rectangle\n",
    "       * Square\n",
    "       * Triangle\n",
    "       * Circle"
   ]
  },
  {
   "cell_type": "markdown",
   "id": "40867932",
   "metadata": {},
   "source": [
    "### Rectangle"
   ]
  },
  {
   "cell_type": "code",
   "execution_count": 19,
   "id": "41402f95",
   "metadata": {},
   "outputs": [
    {
     "name": "stdout",
     "output_type": "stream",
     "text": [
      "Enter the value : 15\n",
      "Enter the value : 20\n",
      "The area of the rectangle is: 300\n"
     ]
    }
   ],
   "source": [
    "l=int(input('Enter the value : '))\n",
    "b=int(input('Enter the value : '))\n",
    "area=l*b\n",
    "print(\"The area of the rectangle is:\",area)"
   ]
  },
  {
   "cell_type": "markdown",
   "id": "9f3fe206",
   "metadata": {},
   "source": [
    "### Square"
   ]
  },
  {
   "cell_type": "code",
   "execution_count": 20,
   "id": "d92cf25d",
   "metadata": {},
   "outputs": [
    {
     "name": "stdout",
     "output_type": "stream",
     "text": [
      "Enter the value : 3\n",
      "Enter the value : 3\n",
      "The area of the square is: 9\n"
     ]
    }
   ],
   "source": [
    "s1=int(input('Enter the value : '))\n",
    "s2=int(input('Enter the value : '))\n",
    "square=s1*s2\n",
    "print(\"The area of the square is:\",square)"
   ]
  },
  {
   "cell_type": "markdown",
   "id": "853d137f",
   "metadata": {},
   "source": [
    "### Triangle"
   ]
  },
  {
   "cell_type": "code",
   "execution_count": 23,
   "id": "33d9ac2d",
   "metadata": {},
   "outputs": [
    {
     "name": "stdout",
     "output_type": "stream",
     "text": [
      "Enter the value : 25\n",
      "Enter the value : 10\n",
      "The area of the triangle is: 125.0\n"
     ]
    }
   ],
   "source": [
    "b=int(input('Enter the value : '))\n",
    "h=int(input('Enter the value : '))\n",
    "area=1/2*b*h\n",
    "print(\"The area of the triangle is:\",area)"
   ]
  },
  {
   "cell_type": "markdown",
   "id": "7c42c9bc",
   "metadata": {},
   "source": [
    "### Circle"
   ]
  },
  {
   "cell_type": "code",
   "execution_count": 30,
   "id": "108c7302",
   "metadata": {},
   "outputs": [
    {
     "name": "stdout",
     "output_type": "stream",
     "text": [
      "Enter the value : 9\n",
      "The area of the circle is : 254.34\n"
     ]
    }
   ],
   "source": [
    "r=int(input('Enter the value : '))\n",
    "a=3.14*r*r\n",
    "print(\"The area of the circle is :\",a)"
   ]
  },
  {
   "cell_type": "markdown",
   "id": "6e7f9fb0",
   "metadata": {},
   "source": [
    "## 2)Write a program to calculate net salary of an employee whose basic salary is entered by the user,DA is 5% of basic salary,HRA is 7% of basic salary and PF is 3% of Basic Salary."
   ]
  },
  {
   "cell_type": "code",
   "execution_count": 14,
   "id": "2fc255db",
   "metadata": {},
   "outputs": [
    {
     "name": "stdout",
     "output_type": "stream",
     "text": [
      "Enter the salary of the employee:10000\n",
      "Net salary of an employee: 25000.0\n"
     ]
    }
   ],
   "source": [
    "salary=int(input(\"Enter the salary of the employee:\"))\n",
    "net_salary=salary+(0.5*salary)+(0.7*salary)+(0.3*salary)\n",
    "print(\"Net salary of an employee:\",net_salary)"
   ]
  },
  {
   "cell_type": "markdown",
   "id": "ac8093b9",
   "metadata": {},
   "source": [
    "## 3)Write a program to calculate power of a number."
   ]
  },
  {
   "cell_type": "code",
   "execution_count": 3,
   "id": "bfbeafa3",
   "metadata": {},
   "outputs": [
    {
     "name": "stdout",
     "output_type": "stream",
     "text": [
      "Enter the value : 5\n",
      "Enter the value : 2\n",
      "Power is : 25\n"
     ]
    }
   ],
   "source": [
    "a=int(input(\"Enter the value : \"))\n",
    "b=int(input(\"Enter the value : \"))\n",
    "c=a**b\n",
    "print(\"Power is :\",c)"
   ]
  },
  {
   "cell_type": "markdown",
   "id": "d28c10bb",
   "metadata": {},
   "source": [
    "## 4)Write a program to get the Python version you are using."
   ]
  },
  {
   "cell_type": "code",
   "execution_count": 1,
   "id": "e653af93",
   "metadata": {},
   "outputs": [
    {
     "name": "stdout",
     "output_type": "stream",
     "text": [
      "3.9.13\n"
     ]
    }
   ],
   "source": [
    "from platform import python_version\n",
    "print(python_version())"
   ]
  }
 ],
 "metadata": {
  "kernelspec": {
   "display_name": "Python 3 (ipykernel)",
   "language": "python",
   "name": "python3"
  },
  "language_info": {
   "codemirror_mode": {
    "name": "ipython",
    "version": 3
   },
   "file_extension": ".py",
   "mimetype": "text/x-python",
   "name": "python",
   "nbconvert_exporter": "python",
   "pygments_lexer": "ipython3",
   "version": "3.9.13"
  }
 },
 "nbformat": 4,
 "nbformat_minor": 5
}
